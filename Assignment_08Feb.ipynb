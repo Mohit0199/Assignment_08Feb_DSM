{
 "cells": [
  {
   "cell_type": "code",
   "execution_count": 3,
   "id": "c40f4d76-c6ca-4834-81f5-5edafc90ebb5",
   "metadata": {},
   "outputs": [
    {
     "name": "stdout",
     "output_type": "stream",
     "text": [
      "Security code for Bank web app.\n",
      "Security code for Mobile app.\n"
     ]
    }
   ],
   "source": [
    "# Q1. What is Abstraction in OOps? Explain with an example.\n",
    "\n",
    "## Abstraction is a blueprint for classses. Abstract class is inherited from ABC class and in abstract\n",
    "## class there are abstract methods using @abstractmethod decorator. Abstract class should havea atleast\n",
    "## one abstract method. Abstraction is used for data hiding.\n",
    "## All classes which are inherited from abstract class should have abstract method in it. \n",
    "## We can not make object of abstract class. \n",
    "\n",
    "from abc import ABC, abstractmethod\n",
    "\n",
    "class Bank(ABC):\n",
    "    \n",
    "    @abstractmethod\n",
    "    def security(self):\n",
    "        pass\n",
    "    \n",
    "class BankWebApp(Bank):\n",
    "    \n",
    "    def security(self):\n",
    "        return \"Security code for Bank web app.\"\n",
    "        \n",
    "class BankMobileApp(Bank):\n",
    "    \n",
    "    def security(Bank):\n",
    "        return \"Security code for Mobile app.\"\n",
    "\n",
    "B1 = BankWebApp()\n",
    "B2 = BankMobileApp()\n",
    "\n",
    "print(B1.security())\n",
    "print(B2.security())"
   ]
  },
  {
   "cell_type": "code",
   "execution_count": 4,
   "id": "ebd07a9f-1a0b-42b2-a4d9-7be29ec3f41c",
   "metadata": {},
   "outputs": [
    {
     "name": "stdout",
     "output_type": "stream",
     "text": [
      "Security code for Bank web app.\n",
      "Security code for Mobile app.\n",
      "Mohit\n",
      "Rohit\n"
     ]
    }
   ],
   "source": [
    "# Q2. Differentiate between Abstraction and Encapsulation. Explain with an example.\n",
    "\n",
    "## Abstraction is used for data hiding and Encapsulation is used for data security.\n",
    "## In Abstracion we define one abstract class which is a blueprint of other classses\n",
    "## while in Encapsulation we make private variable and two methods one setter and one \n",
    "## getter for accessing and modifying that variable.\n",
    "\n",
    "\n",
    "## Example of Abstraction\n",
    "from abc import ABC, abstractmethod\n",
    "\n",
    "class Bank(ABC):\n",
    "    \n",
    "    @abstractmethod\n",
    "    def security(self):\n",
    "        pass\n",
    "    \n",
    "class BankWebApp(Bank):\n",
    "    \n",
    "    def security(self):\n",
    "        return \"Security code for Bank web app.\"\n",
    "        \n",
    "class BankMobileApp(Bank):\n",
    "    \n",
    "    def security(Bank):\n",
    "        return \"Security code for Mobile app.\"\n",
    "\n",
    "B1 = BankWebApp()\n",
    "B2 = BankMobileApp()\n",
    "\n",
    "print(B1.security())\n",
    "print(B2.security())\n",
    "\n",
    "## Example of Encapsulation\n",
    "class Student:\n",
    "    \n",
    "    def __init__(self, name):\n",
    "        self.__name = name\n",
    "        \n",
    "    def get_name(self):\n",
    "        return self.__name\n",
    "    \n",
    "    def set_name(self, new_name):\n",
    "        self.__name = new_name\n",
    "        \n",
    "s1 = Student(\"Mohit\")\n",
    "print(s1.get_name())\n",
    "\n",
    "s1.set_name('Rohit')\n",
    "print(s1.get_name())"
   ]
  },
  {
   "cell_type": "code",
   "execution_count": 5,
   "id": "b22e1776-3e42-4d57-a84c-a3cd52aad0e9",
   "metadata": {},
   "outputs": [],
   "source": [
    "# Q3. What is abc module in python? Why is it used?\n",
    "\n",
    "## The abc module in Python stands for \"Abstract Base Classes.\"\n",
    "## It provides tools for defining Abstract Base Classes (ABCs) in Python.\n",
    "## We import ABC class and @abstractmethod decorator from it.\n",
    "## abc module in Python is used for defining abstract base classes and methods,\n",
    "## enforcing method implementation in subclasses, and improving code clarity."
   ]
  },
  {
   "cell_type": "code",
   "execution_count": 6,
   "id": "9bd30b72-1000-4dea-b860-ec728f54fed7",
   "metadata": {},
   "outputs": [],
   "source": [
    "# Q4. How can we achieve data abstraction?\n",
    "\n",
    "## Abstraction is often achieved through abstract classes and methods.\n",
    "## Abstract classes define a common interface for a set of subclasses, but they may not provide \n",
    "## implementations for all methods. Subclasses must implement these abstract methods."
   ]
  },
  {
   "cell_type": "code",
   "execution_count": 8,
   "id": "3cd25637-55c8-4b58-b4b9-607415775cc3",
   "metadata": {},
   "outputs": [
    {
     "ename": "TypeError",
     "evalue": "Can't instantiate abstract class Bank with abstract method security",
     "output_type": "error",
     "traceback": [
      "\u001b[0;31m---------------------------------------------------------------------------\u001b[0m",
      "\u001b[0;31mTypeError\u001b[0m                                 Traceback (most recent call last)",
      "Cell \u001b[0;32mIn[8], line 13\u001b[0m\n\u001b[1;32m      9\u001b[0m     \u001b[38;5;129m@abstractmethod\u001b[39m\n\u001b[1;32m     10\u001b[0m     \u001b[38;5;28;01mdef\u001b[39;00m \u001b[38;5;21msecurity\u001b[39m(\u001b[38;5;28mself\u001b[39m):\n\u001b[1;32m     11\u001b[0m         \u001b[38;5;28;01mpass\u001b[39;00m\n\u001b[0;32m---> 13\u001b[0m obj \u001b[38;5;241m=\u001b[39m \u001b[43mBank\u001b[49m\u001b[43m(\u001b[49m\u001b[43m)\u001b[49m\n",
      "\u001b[0;31mTypeError\u001b[0m: Can't instantiate abstract class Bank with abstract method security"
     ]
    }
   ],
   "source": [
    "# Q5. Can we create an instance of an abstract class? Explain your answer.\n",
    "\n",
    "## We can not create an instance of an abstract class.\n",
    "\n",
    "from abc import ABC, abstractmethod\n",
    "\n",
    "class Bank(ABC):\n",
    "    \n",
    "    @abstractmethod\n",
    "    def security(self):\n",
    "        pass\n",
    "    \n",
    "obj = Bank()"
   ]
  },
  {
   "cell_type": "code",
   "execution_count": null,
   "id": "816c4304-9299-4820-bb59-02085540a7f4",
   "metadata": {},
   "outputs": [],
   "source": []
  },
  {
   "cell_type": "code",
   "execution_count": null,
   "id": "917dccbd-f111-4bee-a960-470ad9a29902",
   "metadata": {},
   "outputs": [],
   "source": []
  }
 ],
 "metadata": {
  "kernelspec": {
   "display_name": "Python 3 (ipykernel)",
   "language": "python",
   "name": "python3"
  },
  "language_info": {
   "codemirror_mode": {
    "name": "ipython",
    "version": 3
   },
   "file_extension": ".py",
   "mimetype": "text/x-python",
   "name": "python",
   "nbconvert_exporter": "python",
   "pygments_lexer": "ipython3",
   "version": "3.10.8"
  }
 },
 "nbformat": 4,
 "nbformat_minor": 5
}
